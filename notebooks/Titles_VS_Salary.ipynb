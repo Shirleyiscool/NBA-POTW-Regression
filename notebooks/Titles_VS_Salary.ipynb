{
 "cells": [
  {
   "cell_type": "code",
   "execution_count": 1,
   "metadata": {},
   "outputs": [],
   "source": [
    "import numpy as np\n",
    "import pandas as pd\n",
    "import matplotlib.pyplot as plt \n",
    "\n",
    "import statsmodels.api as sm\n",
    "import statsmodels.formula.api as smf\n",
    "import scipy.stats as stats\n",
    "import matplotlib.cm as cm\n",
    "from sklearn.feature_selection import f_regression\n",
    "from statsmodels.stats.anova import anova_lm\n",
    "from statsmodels.stats.outliers_influence import variance_inflation_factor\n",
    "\n",
    "from tabulate import tabulate\n",
    "import tabulatehelper as th"
   ]
  },
  {
   "cell_type": "code",
   "execution_count": 2,
   "metadata": {},
   "outputs": [
    {
     "data": {
      "text/html": [
       "<div>\n",
       "<style scoped>\n",
       "    .dataframe tbody tr th:only-of-type {\n",
       "        vertical-align: middle;\n",
       "    }\n",
       "\n",
       "    .dataframe tbody tr th {\n",
       "        vertical-align: top;\n",
       "    }\n",
       "\n",
       "    .dataframe thead th {\n",
       "        text-align: right;\n",
       "    }\n",
       "</style>\n",
       "<table border=\"1\" class=\"dataframe\">\n",
       "  <thead>\n",
       "    <tr style=\"text-align: right;\">\n",
       "      <th></th>\n",
       "      <th>Year</th>\n",
       "      <th>Player</th>\n",
       "      <th>Pos</th>\n",
       "      <th>Age</th>\n",
       "      <th>Tm</th>\n",
       "      <th>G</th>\n",
       "      <th>GS</th>\n",
       "      <th>MP</th>\n",
       "      <th>FG</th>\n",
       "      <th>FGA</th>\n",
       "      <th>...</th>\n",
       "      <th>PF</th>\n",
       "      <th>PTS</th>\n",
       "      <th>Potw</th>\n",
       "      <th>APG_Leader</th>\n",
       "      <th>MVP</th>\n",
       "      <th>PPG_Leader</th>\n",
       "      <th>RPG_Leader</th>\n",
       "      <th>Rookie</th>\n",
       "      <th>WS_Leader</th>\n",
       "      <th>Salary</th>\n",
       "    </tr>\n",
       "  </thead>\n",
       "  <tbody>\n",
       "    <tr>\n",
       "      <td>0</td>\n",
       "      <td>1991</td>\n",
       "      <td>Alaa Abdelnaby</td>\n",
       "      <td>PF</td>\n",
       "      <td>22.0</td>\n",
       "      <td>POR</td>\n",
       "      <td>43</td>\n",
       "      <td>0</td>\n",
       "      <td>6.7</td>\n",
       "      <td>1.3</td>\n",
       "      <td>2.7</td>\n",
       "      <td>...</td>\n",
       "      <td>0.9</td>\n",
       "      <td>3.1</td>\n",
       "      <td>0.0</td>\n",
       "      <td>0.0</td>\n",
       "      <td>0.0</td>\n",
       "      <td>0.0</td>\n",
       "      <td>0.0</td>\n",
       "      <td>0.0</td>\n",
       "      <td>0.0</td>\n",
       "      <td>395000</td>\n",
       "    </tr>\n",
       "    <tr>\n",
       "      <td>1</td>\n",
       "      <td>1991</td>\n",
       "      <td>Mahmoud Abdul-Rauf</td>\n",
       "      <td>PG</td>\n",
       "      <td>21.0</td>\n",
       "      <td>DEN</td>\n",
       "      <td>67</td>\n",
       "      <td>19</td>\n",
       "      <td>22.5</td>\n",
       "      <td>6.2</td>\n",
       "      <td>15.1</td>\n",
       "      <td>...</td>\n",
       "      <td>2.2</td>\n",
       "      <td>14.1</td>\n",
       "      <td>0.0</td>\n",
       "      <td>0.0</td>\n",
       "      <td>0.0</td>\n",
       "      <td>0.0</td>\n",
       "      <td>0.0</td>\n",
       "      <td>0.0</td>\n",
       "      <td>0.0</td>\n",
       "      <td>1660000</td>\n",
       "    </tr>\n",
       "    <tr>\n",
       "      <td>2</td>\n",
       "      <td>1991</td>\n",
       "      <td>Mark Acres</td>\n",
       "      <td>C</td>\n",
       "      <td>28.0</td>\n",
       "      <td>ORL</td>\n",
       "      <td>68</td>\n",
       "      <td>0</td>\n",
       "      <td>19.3</td>\n",
       "      <td>1.6</td>\n",
       "      <td>3.1</td>\n",
       "      <td>...</td>\n",
       "      <td>3.2</td>\n",
       "      <td>4.2</td>\n",
       "      <td>0.0</td>\n",
       "      <td>0.0</td>\n",
       "      <td>0.0</td>\n",
       "      <td>0.0</td>\n",
       "      <td>0.0</td>\n",
       "      <td>0.0</td>\n",
       "      <td>0.0</td>\n",
       "      <td>437000</td>\n",
       "    </tr>\n",
       "    <tr>\n",
       "      <td>3</td>\n",
       "      <td>1991</td>\n",
       "      <td>Michael Adams</td>\n",
       "      <td>PG</td>\n",
       "      <td>28.0</td>\n",
       "      <td>DEN</td>\n",
       "      <td>66</td>\n",
       "      <td>66</td>\n",
       "      <td>35.5</td>\n",
       "      <td>8.5</td>\n",
       "      <td>21.5</td>\n",
       "      <td>...</td>\n",
       "      <td>2.5</td>\n",
       "      <td>26.5</td>\n",
       "      <td>1.0</td>\n",
       "      <td>0.0</td>\n",
       "      <td>0.0</td>\n",
       "      <td>0.0</td>\n",
       "      <td>0.0</td>\n",
       "      <td>0.0</td>\n",
       "      <td>0.0</td>\n",
       "      <td>825000</td>\n",
       "    </tr>\n",
       "    <tr>\n",
       "      <td>4</td>\n",
       "      <td>1991</td>\n",
       "      <td>Mark Aguirre</td>\n",
       "      <td>SF</td>\n",
       "      <td>31.0</td>\n",
       "      <td>DET</td>\n",
       "      <td>78</td>\n",
       "      <td>13</td>\n",
       "      <td>25.7</td>\n",
       "      <td>5.4</td>\n",
       "      <td>11.7</td>\n",
       "      <td>...</td>\n",
       "      <td>2.7</td>\n",
       "      <td>14.2</td>\n",
       "      <td>0.0</td>\n",
       "      <td>0.0</td>\n",
       "      <td>0.0</td>\n",
       "      <td>0.0</td>\n",
       "      <td>0.0</td>\n",
       "      <td>0.0</td>\n",
       "      <td>0.0</td>\n",
       "      <td>1115000</td>\n",
       "    </tr>\n",
       "  </tbody>\n",
       "</table>\n",
       "<p>5 rows × 38 columns</p>\n",
       "</div>"
      ],
      "text/plain": [
       "   Year              Player Pos   Age   Tm   G  GS    MP   FG   FGA  ...   PF  \\\n",
       "0  1991      Alaa Abdelnaby  PF  22.0  POR  43   0   6.7  1.3   2.7  ...  0.9   \n",
       "1  1991  Mahmoud Abdul-Rauf  PG  21.0  DEN  67  19  22.5  6.2  15.1  ...  2.2   \n",
       "2  1991          Mark Acres   C  28.0  ORL  68   0  19.3  1.6   3.1  ...  3.2   \n",
       "3  1991       Michael Adams  PG  28.0  DEN  66  66  35.5  8.5  21.5  ...  2.5   \n",
       "4  1991        Mark Aguirre  SF  31.0  DET  78  13  25.7  5.4  11.7  ...  2.7   \n",
       "\n",
       "    PTS  Potw  APG_Leader  MVP  PPG_Leader  RPG_Leader  Rookie  WS_Leader  \\\n",
       "0   3.1   0.0         0.0  0.0         0.0         0.0     0.0        0.0   \n",
       "1  14.1   0.0         0.0  0.0         0.0         0.0     0.0        0.0   \n",
       "2   4.2   0.0         0.0  0.0         0.0         0.0     0.0        0.0   \n",
       "3  26.5   1.0         0.0  0.0         0.0         0.0     0.0        0.0   \n",
       "4  14.2   0.0         0.0  0.0         0.0         0.0     0.0        0.0   \n",
       "\n",
       "    Salary  \n",
       "0   395000  \n",
       "1  1660000  \n",
       "2   437000  \n",
       "3   825000  \n",
       "4  1115000  \n",
       "\n",
       "[5 rows x 38 columns]"
      ]
     },
     "execution_count": 2,
     "metadata": {},
     "output_type": "execute_result"
    }
   ],
   "source": [
    "data = pd.read_csv('../data/NBA_Players.csv')\n",
    "data.head()"
   ]
  },
  {
   "cell_type": "code",
   "execution_count": 3,
   "metadata": {},
   "outputs": [],
   "source": [
    "col_salary = ['Year', 'Potw', 'APG_Leader', 'MVP', 'PPG_Leader', 'RPG_Leader', 'Rookie', 'WS_Leader']"
   ]
  },
  {
   "cell_type": "markdown",
   "metadata": {},
   "source": [
    "#### Full Model"
   ]
  },
  {
   "cell_type": "code",
   "execution_count": 4,
   "metadata": {},
   "outputs": [
    {
     "data": {
      "text/html": [
       "<table class=\"simpletable\">\n",
       "<caption>OLS Regression Results</caption>\n",
       "<tr>\n",
       "  <th>Dep. Variable:</th>         <td>Salary</td>      <th>  R-squared:         </th>  <td>   0.231</td>  \n",
       "</tr>\n",
       "<tr>\n",
       "  <th>Model:</th>                   <td>OLS</td>       <th>  Adj. R-squared:    </th>  <td>   0.231</td>  \n",
       "</tr>\n",
       "<tr>\n",
       "  <th>Method:</th>             <td>Least Squares</td>  <th>  F-statistic:       </th>  <td>   338.4</td>  \n",
       "</tr>\n",
       "<tr>\n",
       "  <th>Date:</th>             <td>Sun, 13 Oct 2019</td> <th>  Prob (F-statistic):</th>   <td>  0.00</td>   \n",
       "</tr>\n",
       "<tr>\n",
       "  <th>Time:</th>                 <td>19:01:39</td>     <th>  Log-Likelihood:    </th> <td>-1.5001e+05</td>\n",
       "</tr>\n",
       "<tr>\n",
       "  <th>No. Observations:</th>      <td>  9003</td>      <th>  AIC:               </th>  <td>3.000e+05</td> \n",
       "</tr>\n",
       "<tr>\n",
       "  <th>Df Residuals:</th>          <td>  8994</td>      <th>  BIC:               </th>  <td>3.001e+05</td> \n",
       "</tr>\n",
       "<tr>\n",
       "  <th>Df Model:</th>              <td>     8</td>      <th>                     </th>      <td> </td>     \n",
       "</tr>\n",
       "<tr>\n",
       "  <th>Covariance Type:</th>      <td>nonrobust</td>    <th>                     </th>      <td> </td>     \n",
       "</tr>\n",
       "</table>\n",
       "<table class=\"simpletable\">\n",
       "<tr>\n",
       "       <td></td>         <th>coef</th>     <th>std err</th>      <th>t</th>      <th>P>|t|</th>  <th>[0.025</th>    <th>0.975]</th>  \n",
       "</tr>\n",
       "<tr>\n",
       "  <th>Intercept</th>  <td>-3.726e+08</td> <td> 1.05e+07</td> <td>  -35.504</td> <td> 0.000</td> <td>-3.93e+08</td> <td>-3.52e+08</td>\n",
       "</tr>\n",
       "<tr>\n",
       "  <th>Year</th>       <td> 1.874e+05</td> <td> 5231.501</td> <td>   35.823</td> <td> 0.000</td> <td> 1.77e+05</td> <td> 1.98e+05</td>\n",
       "</tr>\n",
       "<tr>\n",
       "  <th>Potw</th>       <td> 6.327e+06</td> <td> 2.01e+05</td> <td>   31.404</td> <td> 0.000</td> <td> 5.93e+06</td> <td> 6.72e+06</td>\n",
       "</tr>\n",
       "<tr>\n",
       "  <th>APG_Leader</th> <td> 4.374e+06</td> <td> 1.05e+06</td> <td>    4.165</td> <td> 0.000</td> <td> 2.32e+06</td> <td> 6.43e+06</td>\n",
       "</tr>\n",
       "<tr>\n",
       "  <th>MVP</th>        <td> 1.353e+06</td> <td> 1.14e+06</td> <td>    1.182</td> <td> 0.237</td> <td> -8.9e+05</td> <td>  3.6e+06</td>\n",
       "</tr>\n",
       "<tr>\n",
       "  <th>PPG_Leader</th> <td> 3.988e+06</td> <td> 9.28e+05</td> <td>    4.295</td> <td> 0.000</td> <td> 2.17e+06</td> <td> 5.81e+06</td>\n",
       "</tr>\n",
       "<tr>\n",
       "  <th>RPG_Leader</th> <td> 4.677e+06</td> <td> 7.99e+05</td> <td>    5.856</td> <td> 0.000</td> <td> 3.11e+06</td> <td> 6.24e+06</td>\n",
       "</tr>\n",
       "<tr>\n",
       "  <th>Rookie</th>     <td>-2.054e+06</td> <td>  9.6e+05</td> <td>   -2.140</td> <td> 0.032</td> <td>-3.94e+06</td> <td>-1.73e+05</td>\n",
       "</tr>\n",
       "<tr>\n",
       "  <th>WS_Leader</th>  <td> 2.213e+06</td> <td> 1.16e+06</td> <td>    1.916</td> <td> 0.055</td> <td>-5.16e+04</td> <td> 4.48e+06</td>\n",
       "</tr>\n",
       "</table>\n",
       "<table class=\"simpletable\">\n",
       "<tr>\n",
       "  <th>Omnibus:</th>       <td>3646.378</td> <th>  Durbin-Watson:     </th> <td>   1.894</td> \n",
       "</tr>\n",
       "<tr>\n",
       "  <th>Prob(Omnibus):</th>  <td> 0.000</td>  <th>  Jarque-Bera (JB):  </th> <td>18043.676</td>\n",
       "</tr>\n",
       "<tr>\n",
       "  <th>Skew:</th>           <td> 1.922</td>  <th>  Prob(JB):          </th> <td>    0.00</td> \n",
       "</tr>\n",
       "<tr>\n",
       "  <th>Kurtosis:</th>       <td> 8.773</td>  <th>  Cond. No.          </th> <td>4.79e+05</td> \n",
       "</tr>\n",
       "</table><br/><br/>Warnings:<br/>[1] Standard Errors assume that the covariance matrix of the errors is correctly specified.<br/>[2] The condition number is large, 4.79e+05. This might indicate that there are<br/>strong multicollinearity or other numerical problems."
      ],
      "text/plain": [
       "<class 'statsmodels.iolib.summary.Summary'>\n",
       "\"\"\"\n",
       "                            OLS Regression Results                            \n",
       "==============================================================================\n",
       "Dep. Variable:                 Salary   R-squared:                       0.231\n",
       "Model:                            OLS   Adj. R-squared:                  0.231\n",
       "Method:                 Least Squares   F-statistic:                     338.4\n",
       "Date:                Sun, 13 Oct 2019   Prob (F-statistic):               0.00\n",
       "Time:                        19:01:39   Log-Likelihood:            -1.5001e+05\n",
       "No. Observations:                9003   AIC:                         3.000e+05\n",
       "Df Residuals:                    8994   BIC:                         3.001e+05\n",
       "Df Model:                           8                                         \n",
       "Covariance Type:            nonrobust                                         \n",
       "==============================================================================\n",
       "                 coef    std err          t      P>|t|      [0.025      0.975]\n",
       "------------------------------------------------------------------------------\n",
       "Intercept  -3.726e+08   1.05e+07    -35.504      0.000   -3.93e+08   -3.52e+08\n",
       "Year        1.874e+05   5231.501     35.823      0.000    1.77e+05    1.98e+05\n",
       "Potw        6.327e+06   2.01e+05     31.404      0.000    5.93e+06    6.72e+06\n",
       "APG_Leader  4.374e+06   1.05e+06      4.165      0.000    2.32e+06    6.43e+06\n",
       "MVP         1.353e+06   1.14e+06      1.182      0.237    -8.9e+05     3.6e+06\n",
       "PPG_Leader  3.988e+06   9.28e+05      4.295      0.000    2.17e+06    5.81e+06\n",
       "RPG_Leader  4.677e+06   7.99e+05      5.856      0.000    3.11e+06    6.24e+06\n",
       "Rookie     -2.054e+06    9.6e+05     -2.140      0.032   -3.94e+06   -1.73e+05\n",
       "WS_Leader   2.213e+06   1.16e+06      1.916      0.055   -5.16e+04    4.48e+06\n",
       "==============================================================================\n",
       "Omnibus:                     3646.378   Durbin-Watson:                   1.894\n",
       "Prob(Omnibus):                  0.000   Jarque-Bera (JB):            18043.676\n",
       "Skew:                           1.922   Prob(JB):                         0.00\n",
       "Kurtosis:                       8.773   Cond. No.                     4.79e+05\n",
       "==============================================================================\n",
       "\n",
       "Warnings:\n",
       "[1] Standard Errors assume that the covariance matrix of the errors is correctly specified.\n",
       "[2] The condition number is large, 4.79e+05. This might indicate that there are\n",
       "strong multicollinearity or other numerical problems.\n",
       "\"\"\""
      ]
     },
     "execution_count": 4,
     "metadata": {},
     "output_type": "execute_result"
    }
   ],
   "source": [
    "formula_1 = f'Salary ~ {\" + \".join(list(col_salary))}'\n",
    "lm1 = smf.ols(formula_1, data = data).fit()\n",
    "lm1.summary()"
   ]
  },
  {
   "cell_type": "code",
   "execution_count": 5,
   "metadata": {},
   "outputs": [
    {
     "data": {
      "image/png": "[encoded data removed]",
      "text/plain": [
       "<Figure size 432x288 with 1 Axes>"
      ]
     },
     "metadata": {
      "needs_background": "light"
     },
     "output_type": "display_data"
    }
   ],
   "source": [
    "plt.rc('figure')\n",
    "plt.text(0.01, 0.05, str(lm1.summary()), {'fontsize': 10}, fontproperties = 'monospace')\n",
    "plt.axis('off')\n",
    "plt.savefig('../plot/regression_2_summary_model1.png', dpi = 300, bbox_inches = 'tight')"
   ]
  },
  {
   "cell_type": "code",
   "execution_count": 6,
   "metadata": {},
   "outputs": [
    {
     "name": "stdout",
     "output_type": "stream",
     "text": [
      "| index      |   df |      sum_sq |     mean_sq |          F |         PR(>F) |\n",
      "|:-----------|-----:|------------:|------------:|-----------:|:--------------:|\n",
      "| Year       |    1 | 2.3164e+16  | 2.3164e+16  | 1330.82    |   7.34954e-272 |\n",
      "| Potw       |    1 | 2.21228e+16 | 2.21228e+16 | 1271       |   1.67026e-260 |\n",
      "| APG_Leader |    1 | 2.89658e+14 | 2.89658e+14 |   16.6414  |   4.55432e-05  |\n",
      "| MVP        |    1 | 3.69627e+14 | 3.69627e+14 |   21.2359  |   4.11687e-06  |\n",
      "| PPG_Leader |    1 | 4.0067e+14  | 4.0067e+14  |   23.0193  |   1.6296e-06   |\n",
      "| RPG_Leader |    1 | 6.31608e+14 | 6.31608e+14 |   36.2872  |   1.76961e-09  |\n",
      "| Rookie     |    1 | 8.00524e+13 | 8.00524e+13 |    4.59918 |   0.032014     |\n",
      "| WS_Leader  |    1 | 6.38674e+13 | 6.38674e+13 |    3.66932 |   0.0554546    |\n",
      "| Residual   | 8994 | 1.56548e+17 | 1.74058e+13 |  nan       | nan            |\n"
     ]
    }
   ],
   "source": [
    "print(th.md_table(anova_lm(lm1).reset_index(), formats = {-1: 'c'}))"
   ]
  },
  {
   "cell_type": "markdown",
   "metadata": {},
   "source": [
    "#### Check Non-Linearity"
   ]
  },
  {
   "cell_type": "code",
   "execution_count": 7,
   "metadata": {},
   "outputs": [
    {
     "data": {
      "image/png": "[encoded data removed]",
      "text/plain": [
       "<Figure size 432x288 with 1 Axes>"
      ]
     },
     "metadata": {
      "needs_background": "light"
     },
     "output_type": "display_data"
    }
   ],
   "source": [
    "p = lm1.fittedvalues\n",
    "res = lm1.resid\n",
    "plt.scatter(p, res)\n",
    "plt.xlabel(\"Fitted Values\")\n",
    "plt.ylabel(\"Residual\")\n",
    "plt.title(\"Fitted Values vs. Residuals\")\n",
    "plt.savefig('../plot/regression_2_residual_model1.png', dpi = 300, bbox_inches = 'tight')"
   ]
  },
  {
   "cell_type": "markdown",
   "metadata": {},
   "source": [
    "#### Log Transform `y` due to non-linearity"
   ]
  },
  {
   "cell_type": "code",
   "execution_count": 8,
   "metadata": {},
   "outputs": [
    {
     "data": {
      "text/html": [
       "<div>\n",
       "<style scoped>\n",
       "    .dataframe tbody tr th:only-of-type {\n",
       "        vertical-align: middle;\n",
       "    }\n",
       "\n",
       "    .dataframe tbody tr th {\n",
       "        vertical-align: top;\n",
       "    }\n",
       "\n",
       "    .dataframe thead th {\n",
       "        text-align: right;\n",
       "    }\n",
       "</style>\n",
       "<table border=\"1\" class=\"dataframe\">\n",
       "  <thead>\n",
       "    <tr style=\"text-align: right;\">\n",
       "      <th></th>\n",
       "      <th>Year</th>\n",
       "      <th>Player</th>\n",
       "      <th>Pos</th>\n",
       "      <th>Age</th>\n",
       "      <th>Tm</th>\n",
       "      <th>G</th>\n",
       "      <th>GS</th>\n",
       "      <th>MP</th>\n",
       "      <th>FG</th>\n",
       "      <th>FGA</th>\n",
       "      <th>...</th>\n",
       "      <th>PF</th>\n",
       "      <th>PTS</th>\n",
       "      <th>Potw</th>\n",
       "      <th>APG_Leader</th>\n",
       "      <th>MVP</th>\n",
       "      <th>PPG_Leader</th>\n",
       "      <th>RPG_Leader</th>\n",
       "      <th>Rookie</th>\n",
       "      <th>WS_Leader</th>\n",
       "      <th>Salary</th>\n",
       "    </tr>\n",
       "  </thead>\n",
       "  <tbody>\n",
       "    <tr>\n",
       "      <td>0</td>\n",
       "      <td>1991</td>\n",
       "      <td>Alaa Abdelnaby</td>\n",
       "      <td>PF</td>\n",
       "      <td>22.0</td>\n",
       "      <td>POR</td>\n",
       "      <td>43</td>\n",
       "      <td>0</td>\n",
       "      <td>6.7</td>\n",
       "      <td>1.3</td>\n",
       "      <td>2.7</td>\n",
       "      <td>...</td>\n",
       "      <td>0.9</td>\n",
       "      <td>3.1</td>\n",
       "      <td>0.0</td>\n",
       "      <td>0.0</td>\n",
       "      <td>0.0</td>\n",
       "      <td>0.0</td>\n",
       "      <td>0.0</td>\n",
       "      <td>0.0</td>\n",
       "      <td>0.0</td>\n",
       "      <td>12.886641</td>\n",
       "    </tr>\n",
       "    <tr>\n",
       "      <td>1</td>\n",
       "      <td>1991</td>\n",
       "      <td>Mahmoud Abdul-Rauf</td>\n",
       "      <td>PG</td>\n",
       "      <td>21.0</td>\n",
       "      <td>DEN</td>\n",
       "      <td>67</td>\n",
       "      <td>19</td>\n",
       "      <td>22.5</td>\n",
       "      <td>6.2</td>\n",
       "      <td>15.1</td>\n",
       "      <td>...</td>\n",
       "      <td>2.2</td>\n",
       "      <td>14.1</td>\n",
       "      <td>0.0</td>\n",
       "      <td>0.0</td>\n",
       "      <td>0.0</td>\n",
       "      <td>0.0</td>\n",
       "      <td>0.0</td>\n",
       "      <td>0.0</td>\n",
       "      <td>0.0</td>\n",
       "      <td>14.322328</td>\n",
       "    </tr>\n",
       "    <tr>\n",
       "      <td>2</td>\n",
       "      <td>1991</td>\n",
       "      <td>Mark Acres</td>\n",
       "      <td>C</td>\n",
       "      <td>28.0</td>\n",
       "      <td>ORL</td>\n",
       "      <td>68</td>\n",
       "      <td>0</td>\n",
       "      <td>19.3</td>\n",
       "      <td>1.6</td>\n",
       "      <td>3.1</td>\n",
       "      <td>...</td>\n",
       "      <td>3.2</td>\n",
       "      <td>4.2</td>\n",
       "      <td>0.0</td>\n",
       "      <td>0.0</td>\n",
       "      <td>0.0</td>\n",
       "      <td>0.0</td>\n",
       "      <td>0.0</td>\n",
       "      <td>0.0</td>\n",
       "      <td>0.0</td>\n",
       "      <td>12.987688</td>\n",
       "    </tr>\n",
       "    <tr>\n",
       "      <td>3</td>\n",
       "      <td>1991</td>\n",
       "      <td>Michael Adams</td>\n",
       "      <td>PG</td>\n",
       "      <td>28.0</td>\n",
       "      <td>DEN</td>\n",
       "      <td>66</td>\n",
       "      <td>66</td>\n",
       "      <td>35.5</td>\n",
       "      <td>8.5</td>\n",
       "      <td>21.5</td>\n",
       "      <td>...</td>\n",
       "      <td>2.5</td>\n",
       "      <td>26.5</td>\n",
       "      <td>1.0</td>\n",
       "      <td>0.0</td>\n",
       "      <td>0.0</td>\n",
       "      <td>0.0</td>\n",
       "      <td>0.0</td>\n",
       "      <td>0.0</td>\n",
       "      <td>0.0</td>\n",
       "      <td>13.623139</td>\n",
       "    </tr>\n",
       "    <tr>\n",
       "      <td>4</td>\n",
       "      <td>1991</td>\n",
       "      <td>Mark Aguirre</td>\n",
       "      <td>SF</td>\n",
       "      <td>31.0</td>\n",
       "      <td>DET</td>\n",
       "      <td>78</td>\n",
       "      <td>13</td>\n",
       "      <td>25.7</td>\n",
       "      <td>5.4</td>\n",
       "      <td>11.7</td>\n",
       "      <td>...</td>\n",
       "      <td>2.7</td>\n",
       "      <td>14.2</td>\n",
       "      <td>0.0</td>\n",
       "      <td>0.0</td>\n",
       "      <td>0.0</td>\n",
       "      <td>0.0</td>\n",
       "      <td>0.0</td>\n",
       "      <td>0.0</td>\n",
       "      <td>0.0</td>\n",
       "      <td>13.924365</td>\n",
       "    </tr>\n",
       "  </tbody>\n",
       "</table>\n",
       "<p>5 rows × 38 columns</p>\n",
       "</div>"
      ],
      "text/plain": [
       "   Year              Player Pos   Age   Tm   G  GS    MP   FG   FGA  ...   PF  \\\n",
       "0  1991      Alaa Abdelnaby  PF  22.0  POR  43   0   6.7  1.3   2.7  ...  0.9   \n",
       "1  1991  Mahmoud Abdul-Rauf  PG  21.0  DEN  67  19  22.5  6.2  15.1  ...  2.2   \n",
       "2  1991          Mark Acres   C  28.0  ORL  68   0  19.3  1.6   3.1  ...  3.2   \n",
       "3  1991       Michael Adams  PG  28.0  DEN  66  66  35.5  8.5  21.5  ...  2.5   \n",
       "4  1991        Mark Aguirre  SF  31.0  DET  78  13  25.7  5.4  11.7  ...  2.7   \n",
       "\n",
       "    PTS  Potw  APG_Leader  MVP  PPG_Leader  RPG_Leader  Rookie  WS_Leader  \\\n",
       "0   3.1   0.0         0.0  0.0         0.0         0.0     0.0        0.0   \n",
       "1  14.1   0.0         0.0  0.0         0.0         0.0     0.0        0.0   \n",
       "2   4.2   0.0         0.0  0.0         0.0         0.0     0.0        0.0   \n",
       "3  26.5   1.0         0.0  0.0         0.0         0.0     0.0        0.0   \n",
       "4  14.2   0.0         0.0  0.0         0.0         0.0     0.0        0.0   \n",
       "\n",
       "      Salary  \n",
       "0  12.886641  \n",
       "1  14.322328  \n",
       "2  12.987688  \n",
       "3  13.623139  \n",
       "4  13.924365  \n",
       "\n",
       "[5 rows x 38 columns]"
      ]
     },
     "execution_count": 8,
     "metadata": {},
     "output_type": "execute_result"
    }
   ],
   "source": [
    "data_log = data.copy()\n",
    "data_log.Salary = np.log(data_log.Salary)\n",
    "data_log.head()"
   ]
  },
  {
   "cell_type": "markdown",
   "metadata": {},
   "source": [
    "#### Refit Full Model"
   ]
  },
  {
   "cell_type": "code",
   "execution_count": 9,
   "metadata": {},
   "outputs": [
    {
     "data": {
      "text/html": [
       "<table class=\"simpletable\">\n",
       "<caption>OLS Regression Results</caption>\n",
       "<tr>\n",
       "  <th>Dep. Variable:</th>         <td>Salary</td>      <th>  R-squared:         </th> <td>   0.177</td> \n",
       "</tr>\n",
       "<tr>\n",
       "  <th>Model:</th>                   <td>OLS</td>       <th>  Adj. R-squared:    </th> <td>   0.176</td> \n",
       "</tr>\n",
       "<tr>\n",
       "  <th>Method:</th>             <td>Least Squares</td>  <th>  F-statistic:       </th> <td>   241.3</td> \n",
       "</tr>\n",
       "<tr>\n",
       "  <th>Date:</th>             <td>Sun, 13 Oct 2019</td> <th>  Prob (F-statistic):</th>  <td>  0.00</td>  \n",
       "</tr>\n",
       "<tr>\n",
       "  <th>Time:</th>                 <td>19:01:40</td>     <th>  Log-Likelihood:    </th> <td> -14245.</td> \n",
       "</tr>\n",
       "<tr>\n",
       "  <th>No. Observations:</th>      <td>  9003</td>      <th>  AIC:               </th> <td>2.851e+04</td>\n",
       "</tr>\n",
       "<tr>\n",
       "  <th>Df Residuals:</th>          <td>  8994</td>      <th>  BIC:               </th> <td>2.857e+04</td>\n",
       "</tr>\n",
       "<tr>\n",
       "  <th>Df Model:</th>              <td>     8</td>      <th>                     </th>     <td> </td>    \n",
       "</tr>\n",
       "<tr>\n",
       "  <th>Covariance Type:</th>      <td>nonrobust</td>    <th>                     </th>     <td> </td>    \n",
       "</tr>\n",
       "</table>\n",
       "<table class=\"simpletable\">\n",
       "<tr>\n",
       "       <td></td>         <th>coef</th>     <th>std err</th>      <th>t</th>      <th>P>|t|</th>  <th>[0.025</th>    <th>0.975]</th>  \n",
       "</tr>\n",
       "<tr>\n",
       "  <th>Intercept</th>  <td>  -88.1389</td> <td>    2.963</td> <td>  -29.744</td> <td> 0.000</td> <td>  -93.948</td> <td>  -82.330</td>\n",
       "</tr>\n",
       "<tr>\n",
       "  <th>Year</th>       <td>    0.0511</td> <td>    0.001</td> <td>   34.585</td> <td> 0.000</td> <td>    0.048</td> <td>    0.054</td>\n",
       "</tr>\n",
       "<tr>\n",
       "  <th>Potw</th>       <td>    1.3214</td> <td>    0.057</td> <td>   23.226</td> <td> 0.000</td> <td>    1.210</td> <td>    1.433</td>\n",
       "</tr>\n",
       "<tr>\n",
       "  <th>APG_Leader</th> <td>    0.6687</td> <td>    0.297</td> <td>    2.255</td> <td> 0.024</td> <td>    0.087</td> <td>    1.250</td>\n",
       "</tr>\n",
       "<tr>\n",
       "  <th>MVP</th>        <td>    0.0916</td> <td>    0.323</td> <td>    0.284</td> <td> 0.777</td> <td>   -0.542</td> <td>    0.725</td>\n",
       "</tr>\n",
       "<tr>\n",
       "  <th>PPG_Leader</th> <td>    0.5126</td> <td>    0.262</td> <td>    1.955</td> <td> 0.051</td> <td>   -0.001</td> <td>    1.026</td>\n",
       "</tr>\n",
       "<tr>\n",
       "  <th>RPG_Leader</th> <td>    0.8803</td> <td>    0.225</td> <td>    3.904</td> <td> 0.000</td> <td>    0.438</td> <td>    1.322</td>\n",
       "</tr>\n",
       "<tr>\n",
       "  <th>Rookie</th>     <td>    0.1315</td> <td>    0.271</td> <td>    0.485</td> <td> 0.627</td> <td>   -0.400</td> <td>    0.663</td>\n",
       "</tr>\n",
       "<tr>\n",
       "  <th>WS_Leader</th>  <td>    0.3642</td> <td>    0.326</td> <td>    1.116</td> <td> 0.264</td> <td>   -0.275</td> <td>    1.004</td>\n",
       "</tr>\n",
       "</table>\n",
       "<table class=\"simpletable\">\n",
       "<tr>\n",
       "  <th>Omnibus:</th>       <td>842.715</td> <th>  Durbin-Watson:     </th> <td>   1.831</td> \n",
       "</tr>\n",
       "<tr>\n",
       "  <th>Prob(Omnibus):</th> <td> 0.000</td>  <th>  Jarque-Bera (JB):  </th> <td>1294.483</td> \n",
       "</tr>\n",
       "<tr>\n",
       "  <th>Skew:</th>          <td>-0.709</td>  <th>  Prob(JB):          </th> <td>8.06e-282</td>\n",
       "</tr>\n",
       "<tr>\n",
       "  <th>Kurtosis:</th>      <td> 4.200</td>  <th>  Cond. No.          </th> <td>4.79e+05</td> \n",
       "</tr>\n",
       "</table><br/><br/>Warnings:<br/>[1] Standard Errors assume that the covariance matrix of the errors is correctly specified.<br/>[2] The condition number is large, 4.79e+05. This might indicate that there are<br/>strong multicollinearity or other numerical problems."
      ],
      "text/plain": [
       "<class 'statsmodels.iolib.summary.Summary'>\n",
       "\"\"\"\n",
       "                            OLS Regression Results                            \n",
       "==============================================================================\n",
       "Dep. Variable:                 Salary   R-squared:                       0.177\n",
       "Model:                            OLS   Adj. R-squared:                  0.176\n",
       "Method:                 Least Squares   F-statistic:                     241.3\n",
       "Date:                Sun, 13 Oct 2019   Prob (F-statistic):               0.00\n",
       "Time:                        19:01:40   Log-Likelihood:                -14245.\n",
       "No. Observations:                9003   AIC:                         2.851e+04\n",
       "Df Residuals:                    8994   BIC:                         2.857e+04\n",
       "Df Model:                           8                                         \n",
       "Covariance Type:            nonrobust                                         \n",
       "==============================================================================\n",
       "                 coef    std err          t      P>|t|      [0.025      0.975]\n",
       "------------------------------------------------------------------------------\n",
       "Intercept    -88.1389      2.963    -29.744      0.000     -93.948     -82.330\n",
       "Year           0.0511      0.001     34.585      0.000       0.048       0.054\n",
       "Potw           1.3214      0.057     23.226      0.000       1.210       1.433\n",
       "APG_Leader     0.6687      0.297      2.255      0.024       0.087       1.250\n",
       "MVP            0.0916      0.323      0.284      0.777      -0.542       0.725\n",
       "PPG_Leader     0.5126      0.262      1.955      0.051      -0.001       1.026\n",
       "RPG_Leader     0.8803      0.225      3.904      0.000       0.438       1.322\n",
       "Rookie         0.1315      0.271      0.485      0.627      -0.400       0.663\n",
       "WS_Leader      0.3642      0.326      1.116      0.264      -0.275       1.004\n",
       "==============================================================================\n",
       "Omnibus:                      842.715   Durbin-Watson:                   1.831\n",
       "Prob(Omnibus):                  0.000   Jarque-Bera (JB):             1294.483\n",
       "Skew:                          -0.709   Prob(JB):                    8.06e-282\n",
       "Kurtosis:                       4.200   Cond. No.                     4.79e+05\n",
       "==============================================================================\n",
       "\n",
       "Warnings:\n",
       "[1] Standard Errors assume that the covariance matrix of the errors is correctly specified.\n",
       "[2] The condition number is large, 4.79e+05. This might indicate that there are\n",
       "strong multicollinearity or other numerical problems.\n",
       "\"\"\""
      ]
     },
     "execution_count": 9,
     "metadata": {},
     "output_type": "execute_result"
    }
   ],
   "source": [
    "formula_2 = f'Salary ~ {\" + \".join(list(col_salary))}'\n",
    "lm2 = smf.ols(formula_2, data = data_log).fit()\n",
    "lm2.summary()"
   ]
  },
  {
   "cell_type": "code",
   "execution_count": 10,
   "metadata": {},
   "outputs": [
    {
     "data": {
      "image/png": "[encoded data removed]",
      "text/plain": [
       "<Figure size 432x288 with 1 Axes>"
      ]
     },
     "metadata": {
      "needs_background": "light"
     },
     "output_type": "display_data"
    }
   ],
   "source": [
    "plt.rc('figure')\n",
    "plt.text(0.01, 0.05, str(lm2.summary()), {'fontsize': 10}, fontproperties = 'monospace')\n",
    "plt.axis('off')\n",
    "plt.savefig('../plot/regression_2_summary_model2.png', dpi = 300, bbox_inches = 'tight')"
   ]
  },
  {
   "cell_type": "code",
   "execution_count": 11,
   "metadata": {},
   "outputs": [
    {
     "name": "stdout",
     "output_type": "stream",
     "text": [
      "| index      |   df |       sum_sq |     mean_sq |           F |         PR(>F) |\n",
      "|:-----------|-----:|-------------:|------------:|------------:|:--------------:|\n",
      "| Year       |    1 |  1709.68     | 1709.68     | 1231.95     |   4.70618e-253 |\n",
      "| Potw       |    1 |   926.665    |  926.665    |  667.731    |   4.35078e-142 |\n",
      "| APG_Leader |    1 |     6.77177  |    6.77177  |    4.87956  |   0.0272016    |\n",
      "| MVP        |    1 |     5.36321  |    5.36321  |    3.86459  |   0.0493459    |\n",
      "| PPG_Leader |    1 |     6.68263  |    6.68263  |    4.81533  |   0.0282331    |\n",
      "| RPG_Leader |    1 |    22.0516   |   22.0516   |   15.8898   |   6.76709e-05  |\n",
      "| Rookie     |    1 |     0.323805 |    0.323805 |    0.233326 |   0.629081     |\n",
      "| WS_Leader  |    1 |     1.72901  |    1.72901  |    1.24588  |   0.26437      |\n",
      "| Residual   | 8994 | 12481.7      |    1.38778  |  nan        | nan            |\n"
     ]
    }
   ],
   "source": [
    "print(th.md_table(anova_lm(lm2).reset_index(), formats = {-1: 'c'}))"
   ]
  },
  {
   "cell_type": "code",
   "execution_count": 12,
   "metadata": {},
   "outputs": [
    {
     "data": {
      "image/png": "[encoded data removed]",
      "text/plain": [
       "<Figure size 432x288 with 1 Axes>"
      ]
     },
     "metadata": {
      "needs_background": "light"
     },
     "output_type": "display_data"
    }
   ],
   "source": [
    "p = lm2.fittedvalues\n",
    "res = lm2.resid\n",
    "plt.scatter(p, res)\n",
    "plt.xlabel(\"Fitted Values\")\n",
    "plt.ylabel(\"Residual\")\n",
    "plt.title(\"Fitted Values vs. Residuals\")\n",
    "plt.savefig('../plot/regression_2_residual_model2.png', dpi = 300, bbox_inches = 'tight')"
   ]
  },
  {
   "cell_type": "markdown",
   "metadata": {},
   "source": [
    "#### Model Selection using Adjusted R², Mallow's CP, AIC, BIC"
   ]
  },
  {
   "cell_type": "code",
   "execution_count": 13,
   "metadata": {},
   "outputs": [],
   "source": [
    "from itertools import combinations\n",
    "def fitModel(df, y, x):\n",
    "    models = list()\n",
    "    for i in range(1, len(x) + 1):\n",
    "        comb = combinations(x, i)\n",
    "        for params in comb:\n",
    "            models.append(smf.ols(f'{ y } ~ { \"+\".join(params) }', data = df).fit())\n",
    "    return models"
   ]
  },
  {
   "cell_type": "code",
   "execution_count": 14,
   "metadata": {},
   "outputs": [],
   "source": [
    "models_salary = fitModel(data_log, 'Salary', col_salary)"
   ]
  },
  {
   "cell_type": "code",
   "execution_count": 15,
   "metadata": {},
   "outputs": [],
   "source": [
    "r2a_salary = [(list(model.params.index)[1:], model.rsquared_adj) for model in models_salary]\n",
    "sse_salary = [(list(model.params.index)[1:], sum(model.resid ** 2)) for model in models_salary]\n",
    "mse_salary = [(list(model.params.index)[1:], model.mse_resid) for model in models_salary]\n",
    "cp_salary = [(model[0], (model[1] / mse_salary[-1][1] + 2 * (len(model[0]) + 1) - data_log.shape[0])) for model in sse_salary]\n",
    "aic_salary = [(list(model.params.index)[1:], model.aic) for model in models_salary]\n",
    "bic_salary = [(list(model.params.index)[1:], model.bic) for model in models_salary]"
   ]
  },
  {
   "cell_type": "code",
   "execution_count": 16,
   "metadata": {},
   "outputs": [
    {
     "name": "stdout",
     "output_type": "stream",
     "text": [
      "|   index |   Number of Predictors |   Adjusted R-Squared |   Mallows CP | Predictors                                                        |     AIC |     BIC |\n",
      "|--------:|-----------------------:|---------------------:|-------------:|:------------------------------------------------------------------|--------:|:-------:|\n",
      "|     225 |                      6 |             0.176143 |      5.31422 | Year, Potw, APG_Leader, PPG_Leader, RPG_Leader, WS_Leader         | 28505.1 | 28554.8 |\n",
      "|     166 |                      5 |             0.176011 |      5.75517 | Year, Potw, APG_Leader, PPG_Leader, RPG_Leader                    | 28505.5 | 28548.1 |\n",
      "|     218 |                      6 |             0.176037 |      6.47921 | Year, Potw, APG_Leader, MVP, PPG_Leader, RPG_Leader               | 28506.2 | 28556   |\n",
      "|     250 |                      7 |             0.176073 |      7.08048 | Year, Potw, APG_Leader, PPG_Leader, RPG_Leader, Rookie, WS_Leader | 28506.8 | 28563.7 |\n",
      "|     247 |                      7 |             0.176059 |      7.23564 | Year, Potw, APG_Leader, MVP, PPG_Leader, RPG_Leader, WS_Leader    | 28507   | 28563.8 |\n"
     ]
    }
   ],
   "source": [
    "table_salary = pd.DataFrame()\n",
    "table_salary['Number of Predictors'] = [len(model[0]) for model in r2a_salary]\n",
    "table_salary['Adjusted R-Squared'] = [model[1] for model in r2a_salary]\n",
    "table_salary['Mallows CP'] = [model[1] for model in cp_salary]\n",
    "table_salary['Predictors'] = [', '.join(model[0]) for model in r2a_salary]\n",
    "table_salary['AIC'] = [model[1] for model in aic_salary]\n",
    "table_salary['BIC'] = [model[1] for model in bic_salary]\n",
    "print(th.md_table(table_salary.sort_values(by = 'Mallows CP').head().reset_index(), formats = {-1: 'c'}))"
   ]
  },
  {
   "cell_type": "markdown",
   "metadata": {},
   "source": [
    "#### Reduced Model -- Drop `MVP` and `Rookie`"
   ]
  },
  {
   "cell_type": "code",
   "execution_count": 17,
   "metadata": {},
   "outputs": [
    {
     "name": "stdout",
     "output_type": "stream",
     "text": [
      "['Year', 'Potw', 'APG_Leader', 'PPG_Leader', 'RPG_Leader', 'WS_Leader']\n"
     ]
    }
   ],
   "source": [
    "reduced_col_salary = table_salary.iloc[225].Predictors.split(', ')\n",
    "print(reduced_col_salary)"
   ]
  },
  {
   "cell_type": "code",
   "execution_count": 18,
   "metadata": {},
   "outputs": [
    {
     "data": {
      "text/html": [
       "<table class=\"simpletable\">\n",
       "<caption>OLS Regression Results</caption>\n",
       "<tr>\n",
       "  <th>Dep. Variable:</th>         <td>Salary</td>      <th>  R-squared:         </th> <td>   0.177</td> \n",
       "</tr>\n",
       "<tr>\n",
       "  <th>Model:</th>                   <td>OLS</td>       <th>  Adj. R-squared:    </th> <td>   0.176</td> \n",
       "</tr>\n",
       "<tr>\n",
       "  <th>Method:</th>             <td>Least Squares</td>  <th>  F-statistic:       </th> <td>   321.8</td> \n",
       "</tr>\n",
       "<tr>\n",
       "  <th>Date:</th>             <td>Sun, 13 Oct 2019</td> <th>  Prob (F-statistic):</th>  <td>  0.00</td>  \n",
       "</tr>\n",
       "<tr>\n",
       "  <th>Time:</th>                 <td>19:01:47</td>     <th>  Log-Likelihood:    </th> <td> -14246.</td> \n",
       "</tr>\n",
       "<tr>\n",
       "  <th>No. Observations:</th>      <td>  9003</td>      <th>  AIC:               </th> <td>2.851e+04</td>\n",
       "</tr>\n",
       "<tr>\n",
       "  <th>Df Residuals:</th>          <td>  8996</td>      <th>  BIC:               </th> <td>2.855e+04</td>\n",
       "</tr>\n",
       "<tr>\n",
       "  <th>Df Model:</th>              <td>     6</td>      <th>                     </th>     <td> </td>    \n",
       "</tr>\n",
       "<tr>\n",
       "  <th>Covariance Type:</th>      <td>nonrobust</td>    <th>                     </th>     <td> </td>    \n",
       "</tr>\n",
       "</table>\n",
       "<table class=\"simpletable\">\n",
       "<tr>\n",
       "       <td></td>         <th>coef</th>     <th>std err</th>      <th>t</th>      <th>P>|t|</th>  <th>[0.025</th>    <th>0.975]</th>  \n",
       "</tr>\n",
       "<tr>\n",
       "  <th>Intercept</th>  <td>  -88.1433</td> <td>    2.963</td> <td>  -29.748</td> <td> 0.000</td> <td>  -93.951</td> <td>  -82.335</td>\n",
       "</tr>\n",
       "<tr>\n",
       "  <th>Year</th>       <td>    0.0511</td> <td>    0.001</td> <td>   34.590</td> <td> 0.000</td> <td>    0.048</td> <td>    0.054</td>\n",
       "</tr>\n",
       "<tr>\n",
       "  <th>Potw</th>       <td>    1.3246</td> <td>    0.056</td> <td>   23.453</td> <td> 0.000</td> <td>    1.214</td> <td>    1.435</td>\n",
       "</tr>\n",
       "<tr>\n",
       "  <th>APG_Leader</th> <td>    0.6636</td> <td>    0.296</td> <td>    2.241</td> <td> 0.025</td> <td>    0.083</td> <td>    1.244</td>\n",
       "</tr>\n",
       "<tr>\n",
       "  <th>PPG_Leader</th> <td>    0.5178</td> <td>    0.261</td> <td>    1.983</td> <td> 0.047</td> <td>    0.006</td> <td>    1.030</td>\n",
       "</tr>\n",
       "<tr>\n",
       "  <th>RPG_Leader</th> <td>    0.8778</td> <td>    0.225</td> <td>    3.894</td> <td> 0.000</td> <td>    0.436</td> <td>    1.320</td>\n",
       "</tr>\n",
       "<tr>\n",
       "  <th>WS_Leader</th>  <td>    0.4165</td> <td>    0.267</td> <td>    1.563</td> <td> 0.118</td> <td>   -0.106</td> <td>    0.939</td>\n",
       "</tr>\n",
       "</table>\n",
       "<table class=\"simpletable\">\n",
       "<tr>\n",
       "  <th>Omnibus:</th>       <td>843.220</td> <th>  Durbin-Watson:     </th> <td>   1.831</td> \n",
       "</tr>\n",
       "<tr>\n",
       "  <th>Prob(Omnibus):</th> <td> 0.000</td>  <th>  Jarque-Bera (JB):  </th> <td>1295.231</td> \n",
       "</tr>\n",
       "<tr>\n",
       "  <th>Skew:</th>          <td>-0.709</td>  <th>  Prob(JB):          </th> <td>5.55e-282</td>\n",
       "</tr>\n",
       "<tr>\n",
       "  <th>Kurtosis:</th>      <td> 4.200</td>  <th>  Cond. No.          </th> <td>4.79e+05</td> \n",
       "</tr>\n",
       "</table><br/><br/>Warnings:<br/>[1] Standard Errors assume that the covariance matrix of the errors is correctly specified.<br/>[2] The condition number is large, 4.79e+05. This might indicate that there are<br/>strong multicollinearity or other numerical problems."
      ],
      "text/plain": [
       "<class 'statsmodels.iolib.summary.Summary'>\n",
       "\"\"\"\n",
       "                            OLS Regression Results                            \n",
       "==============================================================================\n",
       "Dep. Variable:                 Salary   R-squared:                       0.177\n",
       "Model:                            OLS   Adj. R-squared:                  0.176\n",
       "Method:                 Least Squares   F-statistic:                     321.8\n",
       "Date:                Sun, 13 Oct 2019   Prob (F-statistic):               0.00\n",
       "Time:                        19:01:47   Log-Likelihood:                -14246.\n",
       "No. Observations:                9003   AIC:                         2.851e+04\n",
       "Df Residuals:                    8996   BIC:                         2.855e+04\n",
       "Df Model:                           6                                         \n",
       "Covariance Type:            nonrobust                                         \n",
       "==============================================================================\n",
       "                 coef    std err          t      P>|t|      [0.025      0.975]\n",
       "------------------------------------------------------------------------------\n",
       "Intercept    -88.1433      2.963    -29.748      0.000     -93.951     -82.335\n",
       "Year           0.0511      0.001     34.590      0.000       0.048       0.054\n",
       "Potw           1.3246      0.056     23.453      0.000       1.214       1.435\n",
       "APG_Leader     0.6636      0.296      2.241      0.025       0.083       1.244\n",
       "PPG_Leader     0.5178      0.261      1.983      0.047       0.006       1.030\n",
       "RPG_Leader     0.8778      0.225      3.894      0.000       0.436       1.320\n",
       "WS_Leader      0.4165      0.267      1.563      0.118      -0.106       0.939\n",
       "==============================================================================\n",
       "Omnibus:                      843.220   Durbin-Watson:                   1.831\n",
       "Prob(Omnibus):                  0.000   Jarque-Bera (JB):             1295.231\n",
       "Skew:                          -0.709   Prob(JB):                    5.55e-282\n",
       "Kurtosis:                       4.200   Cond. No.                     4.79e+05\n",
       "==============================================================================\n",
       "\n",
       "Warnings:\n",
       "[1] Standard Errors assume that the covariance matrix of the errors is correctly specified.\n",
       "[2] The condition number is large, 4.79e+05. This might indicate that there are\n",
       "strong multicollinearity or other numerical problems.\n",
       "\"\"\""
      ]
     },
     "execution_count": 18,
     "metadata": {},
     "output_type": "execute_result"
    }
   ],
   "source": [
    "formula_3 = f'Salary ~ {\" + \".join(reduced_col_salary)}'\n",
    "lm3 = smf.ols(formula_3, data = data_log).fit()\n",
    "lm3.summary()"
   ]
  },
  {
   "cell_type": "code",
   "execution_count": 19,
   "metadata": {},
   "outputs": [
    {
     "data": {
      "image/png": "[encoded data removed]",
      "text/plain": [
       "<Figure size 432x288 with 1 Axes>"
      ]
     },
     "metadata": {
      "needs_background": "light"
     },
     "output_type": "display_data"
    }
   ],
   "source": [
    "plt.rc('figure')\n",
    "plt.text(0.01, 0.05, str(lm3.summary()), {'fontsize': 10}, fontproperties = 'monospace')\n",
    "plt.axis('off')\n",
    "plt.savefig('../plot/regression_2_summary_model3.png', dpi = 300, bbox_inches = 'tight')"
   ]
  },
  {
   "cell_type": "code",
   "execution_count": 20,
   "metadata": {},
   "outputs": [
    {
     "name": "stdout",
     "output_type": "stream",
     "text": [
      "| index      |   df |      sum_sq |    mean_sq |          F |         PR(>F) |\n",
      "|:-----------|-----:|------------:|-----------:|-----------:|:--------------:|\n",
      "| Year       |    1 |  1709.68    | 1709.68    | 1232.18    |   4.21791e-253 |\n",
      "| Potw       |    1 |   926.665   |  926.665   |  667.856   |   4.09393e-142 |\n",
      "| APG_Leader |    1 |     6.77177 |    6.77177 |    4.88048 |   0.0271872    |\n",
      "| PPG_Leader |    1 |    10.0137  |   10.0137  |    7.21698 |   0.00723497   |\n",
      "| RPG_Leader |    1 |    22.3129  |   22.3129  |   16.0811  |   6.11763e-05  |\n",
      "| WS_Leader  |    1 |     3.38751 |    3.38751 |    2.44141 |   0.118205     |\n",
      "| Residual   | 8996 | 12482.1     |    1.38752 |  nan       | nan            |\n"
     ]
    }
   ],
   "source": [
    "print(th.md_table(anova_lm(lm3).reset_index(), formats = {-1: 'c'}))"
   ]
  },
  {
   "cell_type": "markdown",
   "metadata": {},
   "source": [
    "#### Reduced Model -- Drop `MVP`,`Rookie` and `WS_Leader`"
   ]
  },
  {
   "cell_type": "code",
   "execution_count": 21,
   "metadata": {},
   "outputs": [
    {
     "name": "stdout",
     "output_type": "stream",
     "text": [
      "['Year', 'Potw', 'APG_Leader', 'PPG_Leader', 'RPG_Leader']\n"
     ]
    }
   ],
   "source": [
    "reduced2_col_salary = table_salary.iloc[166].Predictors.split(', ')\n",
    "print(reduced2_col_salary)"
   ]
  },
  {
   "cell_type": "code",
   "execution_count": 22,
   "metadata": {},
   "outputs": [
    {
     "data": {
      "text/html": [
       "<table class=\"simpletable\">\n",
       "<caption>OLS Regression Results</caption>\n",
       "<tr>\n",
       "  <th>Dep. Variable:</th>         <td>Salary</td>      <th>  R-squared:         </th> <td>   0.176</td> \n",
       "</tr>\n",
       "<tr>\n",
       "  <th>Model:</th>                   <td>OLS</td>       <th>  Adj. R-squared:    </th> <td>   0.176</td> \n",
       "</tr>\n",
       "<tr>\n",
       "  <th>Method:</th>             <td>Least Squares</td>  <th>  F-statistic:       </th> <td>   385.6</td> \n",
       "</tr>\n",
       "<tr>\n",
       "  <th>Date:</th>             <td>Sun, 13 Oct 2019</td> <th>  Prob (F-statistic):</th>  <td>  0.00</td>  \n",
       "</tr>\n",
       "<tr>\n",
       "  <th>Time:</th>                 <td>19:01:48</td>     <th>  Log-Likelihood:    </th> <td> -14247.</td> \n",
       "</tr>\n",
       "<tr>\n",
       "  <th>No. Observations:</th>      <td>  9003</td>      <th>  AIC:               </th> <td>2.851e+04</td>\n",
       "</tr>\n",
       "<tr>\n",
       "  <th>Df Residuals:</th>          <td>  8997</td>      <th>  BIC:               </th> <td>2.855e+04</td>\n",
       "</tr>\n",
       "<tr>\n",
       "  <th>Df Model:</th>              <td>     5</td>      <th>                     </th>     <td> </td>    \n",
       "</tr>\n",
       "<tr>\n",
       "  <th>Covariance Type:</th>      <td>nonrobust</td>    <th>                     </th>     <td> </td>    \n",
       "</tr>\n",
       "</table>\n",
       "<table class=\"simpletable\">\n",
       "<tr>\n",
       "       <td></td>         <th>coef</th>     <th>std err</th>      <th>t</th>      <th>P>|t|</th>  <th>[0.025</th>    <th>0.975]</th>  \n",
       "</tr>\n",
       "<tr>\n",
       "  <th>Intercept</th>  <td>  -88.1045</td> <td>    2.963</td> <td>  -29.734</td> <td> 0.000</td> <td>  -93.913</td> <td>  -82.296</td>\n",
       "</tr>\n",
       "<tr>\n",
       "  <th>Year</th>       <td>    0.0511</td> <td>    0.001</td> <td>   34.575</td> <td> 0.000</td> <td>    0.048</td> <td>    0.054</td>\n",
       "</tr>\n",
       "<tr>\n",
       "  <th>Potw</th>       <td>    1.3347</td> <td>    0.056</td> <td>   23.783</td> <td> 0.000</td> <td>    1.225</td> <td>    1.445</td>\n",
       "</tr>\n",
       "<tr>\n",
       "  <th>APG_Leader</th> <td>    0.6846</td> <td>    0.296</td> <td>    2.314</td> <td> 0.021</td> <td>    0.105</td> <td>    1.265</td>\n",
       "</tr>\n",
       "<tr>\n",
       "  <th>PPG_Leader</th> <td>    0.6752</td> <td>    0.241</td> <td>    2.802</td> <td> 0.005</td> <td>    0.203</td> <td>    1.147</td>\n",
       "</tr>\n",
       "<tr>\n",
       "  <th>RPG_Leader</th> <td>    0.9018</td> <td>    0.225</td> <td>    4.010</td> <td> 0.000</td> <td>    0.461</td> <td>    1.343</td>\n",
       "</tr>\n",
       "</table>\n",
       "<table class=\"simpletable\">\n",
       "<tr>\n",
       "  <th>Omnibus:</th>       <td>842.383</td> <th>  Durbin-Watson:     </th> <td>   1.830</td> \n",
       "</tr>\n",
       "<tr>\n",
       "  <th>Prob(Omnibus):</th> <td> 0.000</td>  <th>  Jarque-Bera (JB):  </th> <td>1293.724</td> \n",
       "</tr>\n",
       "<tr>\n",
       "  <th>Skew:</th>          <td>-0.709</td>  <th>  Prob(JB):          </th> <td>1.18e-281</td>\n",
       "</tr>\n",
       "<tr>\n",
       "  <th>Kurtosis:</th>      <td> 4.200</td>  <th>  Cond. No.          </th> <td>4.79e+05</td> \n",
       "</tr>\n",
       "</table><br/><br/>Warnings:<br/>[1] Standard Errors assume that the covariance matrix of the errors is correctly specified.<br/>[2] The condition number is large, 4.79e+05. This might indicate that there are<br/>strong multicollinearity or other numerical problems."
      ],
      "text/plain": [
       "<class 'statsmodels.iolib.summary.Summary'>\n",
       "\"\"\"\n",
       "                            OLS Regression Results                            \n",
       "==============================================================================\n",
       "Dep. Variable:                 Salary   R-squared:                       0.176\n",
       "Model:                            OLS   Adj. R-squared:                  0.176\n",
       "Method:                 Least Squares   F-statistic:                     385.6\n",
       "Date:                Sun, 13 Oct 2019   Prob (F-statistic):               0.00\n",
       "Time:                        19:01:48   Log-Likelihood:                -14247.\n",
       "No. Observations:                9003   AIC:                         2.851e+04\n",
       "Df Residuals:                    8997   BIC:                         2.855e+04\n",
       "Df Model:                           5                                         \n",
       "Covariance Type:            nonrobust                                         \n",
       "==============================================================================\n",
       "                 coef    std err          t      P>|t|      [0.025      0.975]\n",
       "------------------------------------------------------------------------------\n",
       "Intercept    -88.1045      2.963    -29.734      0.000     -93.913     -82.296\n",
       "Year           0.0511      0.001     34.575      0.000       0.048       0.054\n",
       "Potw           1.3347      0.056     23.783      0.000       1.225       1.445\n",
       "APG_Leader     0.6846      0.296      2.314      0.021       0.105       1.265\n",
       "PPG_Leader     0.6752      0.241      2.802      0.005       0.203       1.147\n",
       "RPG_Leader     0.9018      0.225      4.010      0.000       0.461       1.343\n",
       "==============================================================================\n",
       "Omnibus:                      842.383   Durbin-Watson:                   1.830\n",
       "Prob(Omnibus):                  0.000   Jarque-Bera (JB):             1293.724\n",
       "Skew:                          -0.709   Prob(JB):                    1.18e-281\n",
       "Kurtosis:                       4.200   Cond. No.                     4.79e+05\n",
       "==============================================================================\n",
       "\n",
       "Warnings:\n",
       "[1] Standard Errors assume that the covariance matrix of the errors is correctly specified.\n",
       "[2] The condition number is large, 4.79e+05. This might indicate that there are\n",
       "strong multicollinearity or other numerical problems.\n",
       "\"\"\""
      ]
     },
     "execution_count": 22,
     "metadata": {},
     "output_type": "execute_result"
    }
   ],
   "source": [
    "formula_4 = f'Salary ~ {\" + \".join(reduced2_col_salary)}'\n",
    "lm4 = smf.ols(formula_4, data = data_log).fit()\n",
    "lm4.summary()"
   ]
  },
  {
   "cell_type": "code",
   "execution_count": 23,
   "metadata": {},
   "outputs": [
    {
     "data": {
      "image/png": "[encoded data removed]",
      "text/plain": [
       "<Figure size 432x288 with 1 Axes>"
      ]
     },
     "metadata": {
      "needs_background": "light"
     },
     "output_type": "display_data"
    }
   ],
   "source": [
    "plt.rc('figure')\n",
    "plt.text(0.01, 0.05, str(lm4.summary()), {'fontsize': 10}, fontproperties = 'monospace')\n",
    "plt.axis('off')\n",
    "plt.savefig('../plot/regression_2_summary_model4.png', dpi = 300, bbox_inches = 'tight')"
   ]
  },
  {
   "cell_type": "code",
   "execution_count": 24,
   "metadata": {},
   "outputs": [
    {
     "name": "stdout",
     "output_type": "stream",
     "text": [
      "| index      |   df |      sum_sq |    mean_sq |          F |         PR(>F) |\n",
      "|:-----------|-----:|------------:|-----------:|-----------:|:--------------:|\n",
      "| Year       |    1 |  1709.68    | 1709.68    | 1231.98    |   4.58256e-253 |\n",
      "| Potw       |    1 |   926.665   |  926.665   |  667.749   |   4.29787e-142 |\n",
      "| APG_Leader |    1 |     6.77177 |    6.77177 |    4.8797  |   0.0271995    |\n",
      "| PPG_Leader |    1 |    10.0137  |   10.0137  |    7.21582 |   0.00723963   |\n",
      "| RPG_Leader |    1 |    22.3129  |   22.3129  |   16.0786  |   6.12594e-05  |\n",
      "| Residual   | 8997 | 12485.5     |    1.38774 |  nan       | nan            |\n"
     ]
    }
   ],
   "source": [
    "print(th.md_table(anova_lm(lm4).reset_index(), formats = {-1: 'c'}))"
   ]
  },
  {
   "cell_type": "markdown",
   "metadata": {},
   "source": [
    "#### Check for Influential Points -- Cook's Distance"
   ]
  },
  {
   "cell_type": "code",
   "execution_count": 25,
   "metadata": {},
   "outputs": [
    {
     "data": {
      "image/png": "[encoded data removed]",
      "text/plain": [
       "<Figure size 432x288 with 1 Axes>"
      ]
     },
     "metadata": {
      "needs_background": "light"
     },
     "output_type": "display_data"
    }
   ],
   "source": [
    "fig = sm.graphics.influence_plot(lm4)\n",
    "plt.savefig('../plot/regression_2_influence.png', dpi = 300, bbox_inches = 'tight')\n",
    "plt.show()"
   ]
  },
  {
   "cell_type": "code",
   "execution_count": 26,
   "metadata": {},
   "outputs": [
    {
     "name": "stdout",
     "output_type": "stream",
     "text": [
      "134\n"
     ]
    }
   ],
   "source": [
    "cooks = lm4.get_influence().cooks_distance[0]\n",
    "seuil_cooks = 4 / (data.shape[0] - len(lm4.params))\n",
    "atyp_cooks = np.abs(cooks) > seuil_cooks\n",
    "outliers = list(data.index[pd.Series(atyp_cooks)])\n",
    "print(len(outliers))"
   ]
  },
  {
   "cell_type": "code",
   "execution_count": 27,
   "metadata": {},
   "outputs": [
    {
     "name": "stdout",
     "output_type": "stream",
     "text": [
      "0.014883927579695658\n"
     ]
    }
   ],
   "source": [
    "print(len(outliers) / data_log.shape[0])"
   ]
  },
  {
   "cell_type": "markdown",
   "metadata": {},
   "source": [
    "#### Remove Outliers"
   ]
  },
  {
   "cell_type": "code",
   "execution_count": 28,
   "metadata": {},
   "outputs": [],
   "source": [
    "data_removed_outliers = data_log.loc[~data_log.index.isin(outliers)]"
   ]
  },
  {
   "cell_type": "code",
   "execution_count": 29,
   "metadata": {},
   "outputs": [
    {
     "data": {
      "text/html": [
       "<table class=\"simpletable\">\n",
       "<caption>OLS Regression Results</caption>\n",
       "<tr>\n",
       "  <th>Dep. Variable:</th>         <td>Salary</td>      <th>  R-squared:         </th> <td>   0.202</td> \n",
       "</tr>\n",
       "<tr>\n",
       "  <th>Model:</th>                   <td>OLS</td>       <th>  Adj. R-squared:    </th> <td>   0.201</td> \n",
       "</tr>\n",
       "<tr>\n",
       "  <th>Method:</th>             <td>Least Squares</td>  <th>  F-statistic:       </th> <td>   447.8</td> \n",
       "</tr>\n",
       "<tr>\n",
       "  <th>Date:</th>             <td>Sun, 13 Oct 2019</td> <th>  Prob (F-statistic):</th>  <td>  0.00</td>  \n",
       "</tr>\n",
       "<tr>\n",
       "  <th>Time:</th>                 <td>19:02:13</td>     <th>  Log-Likelihood:    </th> <td> -13599.</td> \n",
       "</tr>\n",
       "<tr>\n",
       "  <th>No. Observations:</th>      <td>  8869</td>      <th>  AIC:               </th> <td>2.721e+04</td>\n",
       "</tr>\n",
       "<tr>\n",
       "  <th>Df Residuals:</th>          <td>  8863</td>      <th>  BIC:               </th> <td>2.725e+04</td>\n",
       "</tr>\n",
       "<tr>\n",
       "  <th>Df Model:</th>              <td>     5</td>      <th>                     </th>     <td> </td>    \n",
       "</tr>\n",
       "<tr>\n",
       "  <th>Covariance Type:</th>      <td>nonrobust</td>    <th>                     </th>     <td> </td>    \n",
       "</tr>\n",
       "</table>\n",
       "<table class=\"simpletable\">\n",
       "<tr>\n",
       "       <td></td>         <th>coef</th>     <th>std err</th>      <th>t</th>      <th>P>|t|</th>  <th>[0.025</th>    <th>0.975]</th>  \n",
       "</tr>\n",
       "<tr>\n",
       "  <th>Intercept</th>  <td>  -92.9023</td> <td>    2.854</td> <td>  -32.550</td> <td> 0.000</td> <td>  -98.497</td> <td>  -87.307</td>\n",
       "</tr>\n",
       "<tr>\n",
       "  <th>Year</th>       <td>    0.0535</td> <td>    0.001</td> <td>   37.586</td> <td> 0.000</td> <td>    0.051</td> <td>    0.056</td>\n",
       "</tr>\n",
       "<tr>\n",
       "  <th>Potw</th>       <td>    1.4459</td> <td>    0.056</td> <td>   25.768</td> <td> 0.000</td> <td>    1.336</td> <td>    1.556</td>\n",
       "</tr>\n",
       "<tr>\n",
       "  <th>APG_Leader</th> <td>    0.6319</td> <td>    0.650</td> <td>    0.972</td> <td> 0.331</td> <td>   -0.642</td> <td>    1.906</td>\n",
       "</tr>\n",
       "<tr>\n",
       "  <th>PPG_Leader</th> <td>    0.5933</td> <td>    0.295</td> <td>    2.013</td> <td> 0.044</td> <td>    0.016</td> <td>    1.171</td>\n",
       "</tr>\n",
       "<tr>\n",
       "  <th>RPG_Leader</th> <td>    0.7595</td> <td>    0.283</td> <td>    2.684</td> <td> 0.007</td> <td>    0.205</td> <td>    1.314</td>\n",
       "</tr>\n",
       "</table>\n",
       "<table class=\"simpletable\">\n",
       "<tr>\n",
       "  <th>Omnibus:</th>       <td>391.092</td> <th>  Durbin-Watson:     </th> <td>   1.861</td> \n",
       "</tr>\n",
       "<tr>\n",
       "  <th>Prob(Omnibus):</th> <td> 0.000</td>  <th>  Jarque-Bera (JB):  </th> <td> 462.930</td> \n",
       "</tr>\n",
       "<tr>\n",
       "  <th>Skew:</th>          <td>-0.496</td>  <th>  Prob(JB):          </th> <td>2.99e-101</td>\n",
       "</tr>\n",
       "<tr>\n",
       "  <th>Kurtosis:</th>      <td> 3.518</td>  <th>  Cond. No.          </th> <td>4.81e+05</td> \n",
       "</tr>\n",
       "</table><br/><br/>Warnings:<br/>[1] Standard Errors assume that the covariance matrix of the errors is correctly specified.<br/>[2] The condition number is large, 4.81e+05. This might indicate that there are<br/>strong multicollinearity or other numerical problems."
      ],
      "text/plain": [
       "<class 'statsmodels.iolib.summary.Summary'>\n",
       "\"\"\"\n",
       "                            OLS Regression Results                            \n",
       "==============================================================================\n",
       "Dep. Variable:                 Salary   R-squared:                       0.202\n",
       "Model:                            OLS   Adj. R-squared:                  0.201\n",
       "Method:                 Least Squares   F-statistic:                     447.8\n",
       "Date:                Sun, 13 Oct 2019   Prob (F-statistic):               0.00\n",
       "Time:                        19:02:13   Log-Likelihood:                -13599.\n",
       "No. Observations:                8869   AIC:                         2.721e+04\n",
       "Df Residuals:                    8863   BIC:                         2.725e+04\n",
       "Df Model:                           5                                         \n",
       "Covariance Type:            nonrobust                                         \n",
       "==============================================================================\n",
       "                 coef    std err          t      P>|t|      [0.025      0.975]\n",
       "------------------------------------------------------------------------------\n",
       "Intercept    -92.9023      2.854    -32.550      0.000     -98.497     -87.307\n",
       "Year           0.0535      0.001     37.586      0.000       0.051       0.056\n",
       "Potw           1.4459      0.056     25.768      0.000       1.336       1.556\n",
       "APG_Leader     0.6319      0.650      0.972      0.331      -0.642       1.906\n",
       "PPG_Leader     0.5933      0.295      2.013      0.044       0.016       1.171\n",
       "RPG_Leader     0.7595      0.283      2.684      0.007       0.205       1.314\n",
       "==============================================================================\n",
       "Omnibus:                      391.092   Durbin-Watson:                   1.861\n",
       "Prob(Omnibus):                  0.000   Jarque-Bera (JB):              462.930\n",
       "Skew:                          -0.496   Prob(JB):                    2.99e-101\n",
       "Kurtosis:                       3.518   Cond. No.                     4.81e+05\n",
       "==============================================================================\n",
       "\n",
       "Warnings:\n",
       "[1] Standard Errors assume that the covariance matrix of the errors is correctly specified.\n",
       "[2] The condition number is large, 4.81e+05. This might indicate that there are\n",
       "strong multicollinearity or other numerical problems.\n",
       "\"\"\""
      ]
     },
     "execution_count": 29,
     "metadata": {},
     "output_type": "execute_result"
    }
   ],
   "source": [
    "formula_5 = f'Salary ~ {\" + \".join(reduced2_col_salary)}'\n",
    "lm5 = smf.ols(formula_5, data = data_removed_outliers).fit()\n",
    "lm5.summary()"
   ]
  },
  {
   "cell_type": "code",
   "execution_count": 30,
   "metadata": {},
   "outputs": [
    {
     "data": {
      "image/png": "[encoded data removed]",
      "text/plain": [
       "<Figure size 432x288 with 1 Axes>"
      ]
     },
     "metadata": {
      "needs_background": "light"
     },
     "output_type": "display_data"
    }
   ],
   "source": [
    "plt.rc('figure')\n",
    "plt.text(0.01, 0.05, str(lm5.summary()), {'fontsize': 10}, fontproperties = 'monospace')\n",
    "plt.axis('off')\n",
    "plt.savefig('../plot/regression_2_summary_model5.png', dpi = 300, bbox_inches = 'tight')"
   ]
  },
  {
   "cell_type": "code",
   "execution_count": 31,
   "metadata": {},
   "outputs": [
    {
     "name": "stdout",
     "output_type": "stream",
     "text": [
      "| index      |   df |      sum_sq |    mean_sq |           F |         PR(>F) |\n",
      "|:-----------|-----:|------------:|-----------:|------------:|:--------------:|\n",
      "| Year       |    1 |  1866.2     | 1866.2     | 1483.66     |   2.92382e-300 |\n",
      "| Potw       |    1 |   935.444   |  935.444   |  743.696    |   2.5721e-157  |\n",
      "| APG_Leader |    1 |     1.04749 |    1.04749 |    0.832772 |   0.361497     |\n",
      "| PPG_Leader |    1 |     4.77119 |    4.77119 |    3.79319  |   0.051493     |\n",
      "| RPG_Leader |    1 |     9.06309 |    9.06309 |    7.20534  |   0.00728222   |\n",
      "| Residual   | 8863 | 11148.1     |    1.25783 |  nan        | nan            |\n"
     ]
    }
   ],
   "source": [
    "print(th.md_table(anova_lm(lm5).reset_index(), formats = {-1: 'c'}))"
   ]
  },
  {
   "cell_type": "markdown",
   "metadata": {},
   "source": [
    "#### Check Heteroscedasticity -- Breusch-Pagan Test"
   ]
  },
  {
   "cell_type": "code",
   "execution_count": 32,
   "metadata": {},
   "outputs": [
    {
     "name": "stdout",
     "output_type": "stream",
     "text": [
      "|   LM Statistic |   LM-Test p-value |   F-Statistic |   F-Test p-value |\n",
      "|---------------:|------------------:|--------------:|:----------------:|\n",
      "|         131.12 |        1.3766e-26 |       26.5939 |      8.87478e-27 |\n"
     ]
    }
   ],
   "source": [
    "from statsmodels.stats.diagnostic import het_breuschpagan\n",
    "bp_test = het_breuschpagan(lm4.resid, lm4.model.exog)\n",
    "bp_test_table = pd.DataFrame(bp_test).T\n",
    "bp_test_table.columns = ['LM Statistic', 'LM-Test p-value', 'F-Statistic', 'F-Test p-value']\n",
    "print(th.md_table(bp_test_table, formats = {-1: 'c'}))"
   ]
  },
  {
   "cell_type": "markdown",
   "metadata": {},
   "source": [
    "#### Check Multicollinearity -- VIF"
   ]
  },
  {
   "cell_type": "code",
   "execution_count": 33,
   "metadata": {},
   "outputs": [
    {
     "name": "stdout",
     "output_type": "stream",
     "text": [
      "| Features   |   VIF Factor |\n",
      "|:-----------|:------------:|\n",
      "| Year       |      1.0598  |\n",
      "| Potw       |      1.12948 |\n",
      "| APG_Leader |      1.00912 |\n",
      "| PPG_Leader |      1.04567 |\n",
      "| RPG_Leader |      1.02037 |\n"
     ]
    }
   ],
   "source": [
    "vif = pd.DataFrame()\n",
    "vif['Features'] = reduced2_col_salary\n",
    "vif['VIF Factor'] = [variance_inflation_factor(data[reduced2_col_salary].values, i)\n",
    "                     for i in range(len(reduced2_col_salary))]\n",
    "print(th.md_table(vif, formats = {-1: 'c'}))"
   ]
  },
  {
   "cell_type": "markdown",
   "metadata": {},
   "source": [
    "#### Check Multicollinearity -- Breusch-Godfrey Test"
   ]
  },
  {
   "cell_type": "code",
   "execution_count": 34,
   "metadata": {},
   "outputs": [
    {
     "name": "stdout",
     "output_type": "stream",
     "text": [
      "|   LM Statistic |   LM-Test p-value |   F-Statistic |   F-Test p-value |\n",
      "|---------------:|------------------:|--------------:|:----------------:|\n",
      "|        209.138 |       2.76112e-26 |       5.91981 |      1.25427e-26 |\n"
     ]
    }
   ],
   "source": [
    "bg_test = sm.stats.diagnostic.acorr_breusch_godfrey(lm4)\n",
    "bg_test_table = pd.DataFrame(bg_test).T\n",
    "bg_test_table.columns = ['LM Statistic', 'LM-Test p-value', 'F-Statistic', 'F-Test p-value']\n",
    "print(th.md_table(bg_test_table, formats = {-1: 'c'}))"
   ]
  },
  {
   "cell_type": "markdown",
   "metadata": {},
   "source": [
    "#### Check Normality"
   ]
  },
  {
   "cell_type": "code",
   "execution_count": 35,
   "metadata": {},
   "outputs": [
    {
     "data": {
      "image/png": "[encoded data removed]",
      "text/plain": [
       "<Figure size 432x288 with 1 Axes>"
      ]
     },
     "metadata": {
      "needs_background": "light"
     },
     "output_type": "display_data"
    }
   ],
   "source": [
    "fig = sm.qqplot(lm4.resid, line = 's')\n",
    "plt.savefig('../plot/regression_2_normality.png', dpi = 300, bbox_inches = 'tight')"
   ]
  },
  {
   "cell_type": "markdown",
   "metadata": {},
   "source": [
    "#### Variable Intepretation"
   ]
  },
  {
   "cell_type": "code",
   "execution_count": 36,
   "metadata": {},
   "outputs": [
    {
     "name": "stdout",
     "output_type": "stream",
     "text": [
      "| Type   |     Intercept |      Year |    Potw |   APG_Leader |   PPG_Leader |   RPG_Leader |\n",
      "|:-------|--------------:|----------:|--------:|-------------:|-------------:|:------------:|\n",
      "| βi     | -88.1045      | 0.0510719 | 1.33466 |     0.684587 |     0.675161 |     0.901754 |\n",
      "| e^(βi) |   5.45361e-39 | 1.0524    | 3.79872 |     1.98295  |     1.96435  |     2.46392  |\n"
     ]
    }
   ],
   "source": [
    "import math\n",
    "beta_i = ['βi']\n",
    "beta_i.extend(list(lm4.params.values))\n",
    "e_beta_i = ['e^(βi)']\n",
    "e_beta_i.extend([math.exp(par) for par in lm4.params])\n",
    "beta_col = ['Type']\n",
    "beta_col.extend(list(lm4.params.index))\n",
    "beta = pd.DataFrame([beta_i, e_beta_i], columns = beta_col)\n",
    "print(th.md_table(beta, formats = {-1: 'c'}))"
   ]
  },
  {
   "cell_type": "markdown",
   "metadata": {},
   "source": [
    "**Prediction**"
   ]
  },
  {
   "cell_type": "code",
   "execution_count": 37,
   "metadata": {},
   "outputs": [
    {
     "name": "stdout",
     "output_type": "stream",
     "text": [
      "[   1 2020    0    0    0    0]\n",
      "3473656.8302692324\n"
     ]
    },
    {
     "data": {
      "text/plain": [
       "[1, 2020, 0, 0, 0, 0, 3473656.83]"
      ]
     },
     "execution_count": 37,
     "metadata": {},
     "output_type": "execute_result"
    }
   ],
   "source": [
    "import math\n",
    "# Predict in year 2020 a player's salary when he doesn't have any awards.\n",
    "prdtor1 = np.array([1,2020,0,0,0,0])\n",
    "prdtion1 = np.sum(lm4.params.values * prdtor1.T)\n",
    "print(prdtor1)\n",
    "print(math.exp(prdtion1))\n",
    "result1 = list(prdtor1)\n",
    "result1.append(round(math.exp(prdtion1),2))\n",
    "result1"
   ]
  },
  {
   "cell_type": "code",
   "execution_count": 38,
   "metadata": {},
   "outputs": [
    {
     "name": "stdout",
     "output_type": "stream",
     "text": [
      "[   1 2020    1    0    0    0]\n",
      "13195447.578768782\n"
     ]
    },
    {
     "data": {
      "text/plain": [
       "[1, 2020, 1, 0, 0, 0, 13195447.58]"
      ]
     },
     "execution_count": 38,
     "metadata": {},
     "output_type": "execute_result"
    }
   ],
   "source": [
    "# Predict in year 2020 a player's salary when he only wins POTW.\n",
    "prdtor2 = np.array([1,2020,1,0,0,0])\n",
    "prdtion2 = np.sum(lm4.params.values * prdtor2.T)\n",
    "print(prdtor2)\n",
    "print(math.exp(prdtion2))\n",
    "result2 =  list(prdtor2)\n",
    "result2.append(round(math.exp(prdtion2),2))\n",
    "result2"
   ]
  },
  {
   "cell_type": "code",
   "execution_count": 39,
   "metadata": {},
   "outputs": [
    {
     "name": "stdout",
     "output_type": "stream",
     "text": [
      "[   1 2020    1    0    1    0]\n",
      "25920463.518787738\n"
     ]
    },
    {
     "data": {
      "text/plain": [
       "[1, 2020, 1, 0, 1, 0, 25920463.52]"
      ]
     },
     "execution_count": 39,
     "metadata": {},
     "output_type": "execute_result"
    }
   ],
   "source": [
    "# Predict in year 2020 a player's salary when he wins POTW as well as PPG Leader.\n",
    "prdtor3 = np.array([1,2020,1,0,1,0])\n",
    "prdtion3 = np.sum(lm4.params.values * prdtor3.T)\n",
    "print(prdtor3)\n",
    "print(math.exp(prdtion3))\n",
    "result3 =  list(prdtor3)\n",
    "result3.append(round(math.exp(prdtion3),2))\n",
    "result3"
   ]
  },
  {
   "cell_type": "code",
   "execution_count": 40,
   "metadata": {},
   "outputs": [
    {
     "name": "stdout",
     "output_type": "stream",
     "text": [
      "|   Intercept |    Year |   Potw |   APG_Leader |   PPG_Leader |   RPG_Leader |   Predicted Salary |\n",
      "|------------:|--------:|-------:|-------------:|-------------:|-------------:|:------------------:|\n",
      "|        1.00 | 2020.00 |   0.00 |         0.00 |         0.00 |         0.00 |         3473656.83 |\n",
      "|        1.00 | 2020.00 |   1.00 |         0.00 |         0.00 |         0.00 |        13195447.58 |\n",
      "|        1.00 | 2020.00 |   1.00 |         0.00 |         1.00 |         0.00 |        25920463.52 |\n"
     ]
    }
   ],
   "source": [
    "pred_col = list(lm4.params.index)\n",
    "pred_col.append('Predicted Salary')\n",
    "prediction_table = pd.DataFrame([result1, result2,result3], columns = pred_col)\n",
    "print(th.md_table(prediction_table, formats = {-1: 'c'}, floatfmt=\".2f\"))"
   ]
  },
  {
   "cell_type": "code",
   "execution_count": null,
   "metadata": {},
   "outputs": [],
   "source": []
  },
  {
   "cell_type": "code",
   "execution_count": null,
   "metadata": {},
   "outputs": [],
   "source": []
  }
 ],
 "metadata": {
  "kernelspec": {
   "display_name": "Python 3",
   "language": "python",
   "name": "python3"
  },
  "language_info": {
   "codemirror_mode": {
    "name": "ipython",
    "version": 3
   },
   "file_extension": ".py",
   "mimetype": "text/x-python",
   "name": "python",
   "nbconvert_exporter": "python",
   "pygments_lexer": "ipython3",
   "version": "3.7.4"
  }
 },
 "nbformat": 4,
 "nbformat_minor": 4
}
