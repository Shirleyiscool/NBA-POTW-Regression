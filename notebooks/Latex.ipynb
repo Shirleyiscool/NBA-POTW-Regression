{
 "cells": [
  {
   "cell_type": "markdown",
   "metadata": {},
   "source": [
    "log(\\hat{y}_{Salary}) = & \\hat{\\beta}_{0} + \\hat{\\beta}_{Year} \\cdot X_{Year} + \\hat{\\beta}_{Potw} \\cdot X_{Potw} + \\hat{\\beta}_{APG Leader} \\cdot X_{APG Leader} + \\hat{\\beta}_{PPG Leader} \\cdot X_{PPG Leader} + \\hat{\\beta}_{RPG Leader} \\cdot X_{RPG Leader} \\\\ = & -88.1045 + 0.0510719 \\cdot X_{Year} + 1.33466 \\cdot X_{Potw} + 0.684587 \\cdot X_{APG Leader} + 0.675161 \\cdot X_{PPG Leader} + 0.901754 \\cdot X_{RPG Leader}"
   ]
  },
  {
   "cell_type": "markdown",
   "metadata": {},
   "source": [
    "log(\\frac{\\hat{\\pi_i}}{1 - \\hat{\\pi_i}}) = & \\hat{\\beta}_{0} + \\hat{\\beta}_{G} \\cdot X_{G} + \\hat{\\beta}_{ThreeP} \\cdot X_{ThreeP} + \\hat{\\beta}_{TwoP} \\cdot X_{TwoP} + \\hat{\\beta}_{FT} \\cdot X_{FT} + \\hat{\\beta}_{DRB} \\cdot X_{DRB} + \\hat{\\beta}_{AST} \\cdot X_{AST} + \\hat{\\beta}_{STL} \\cdot X_{STL} + \\\\ & \\hat{\\beta}_{BLK} \\cdot X_{BLK} + \\hat{\\beta}_{PF} \\cdot X_{PF} + \\hat{\\beta}_{PosPF} \\cdot X_{PosPF} + \\hat{\\beta}_{PosPG} \\cdot X_{PosPG} + \\hat{\\beta}_{PosSF} \\cdot X_{PosSF} + \\hat{\\beta}_{PosSG} \\cdot X_{PosSG} \\\\ \\\\ = & -43.9893 + 0.1668 \\cdot X_{G} + 2.4891 \\cdot X_{ThreeP} + 1.9363 \\cdot X_{TwoP} + 1.3466 \\cdot X_{FT} + 1.0637 \\cdot X_{DRB} + 0.42444 \\cdot X_{AST} + 1.9159 \\cdot X_{STL} + \\\\ & 1.3372 \\cdot X_{BLK} - 1.4383 \\cdot X_{PF} - 1.6189 \\cdot X_{PosPF} + 2.3514 \\cdot X_{PosPG} -2.4764 \\cdot X_{PosSF} -0.8487 \\cdot X_{PosSG}"
   ]
  }
 ],
 "metadata": {
  "kernelspec": {
   "display_name": "Python 3",
   "language": "python",
   "name": "python3"
  },
  "language_info": {
   "codemirror_mode": {
    "name": "ipython",
    "version": 3
   },
   "file_extension": ".py",
   "mimetype": "text/x-python",
   "name": "python",
   "nbconvert_exporter": "python",
   "pygments_lexer": "ipython3",
   "version": "3.7.4"
  }
 },
 "nbformat": 4,
 "nbformat_minor": 4
}
